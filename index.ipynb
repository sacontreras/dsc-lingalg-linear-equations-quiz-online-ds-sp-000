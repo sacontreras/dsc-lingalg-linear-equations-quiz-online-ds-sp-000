{
 "cells": [
  {
   "cell_type": "markdown",
   "metadata": {},
   "source": [
    "# Systems of Linear Equations - Lab\n",
    "\n",
    "## Introduction\n",
    "The following scenarios present problems that can be solved as a system of equations while performing substitutions and eliminations as you saw in the previous lesson.\n",
    "\n",
    "* Solve these problems by hand, showing all the steps to work out the unknown variable values \n",
    "* Verify your answers by showing the calculated values satisfy all equations\n",
    "\n",
    "## Objectives\n",
    "\n",
    "In this lab you will: \n",
    "\n",
    "- Solve a system of equations using elimination and substitution\n",
    "\n",
    "## Exercise 1\n",
    "Jane paid 12 dollars for 4 cups of coffee and 4 cups of tea. 3 cups of coffee cost as much as 2 cups of tea. What would be the total cost of 5 cups of coffee and 5 cups of tea?\n",
    "\n",
    "### Solution\n",
    "\n",
    "> Let $x$ be the unit price of coffee and $y$ be the unit price of tea"
   ]
  },
  {
   "cell_type": "code",
   "execution_count": 1,
   "metadata": {},
   "outputs": [
    {
     "name": "stdout",
     "output_type": "stream",
     "text": [
      "x = 1.2\n",
      "y = 1.8\n",
      "5x + 5y = 5*1.2 + 5*1.8 = 6.0 + 9.0 = 15.0\n"
     ]
    }
   ],
   "source": [
    "# Your solution here \n",
    "# Answer: 5 cups of tea and 5 cups of coffee = 15 dollars\n",
    "\n",
    "# 4x + 4y = 12\n",
    "# 3x = 2y\n",
    "\n",
    "# solve y in terms of x\n",
    "# y = (3/2)x\n",
    "\n",
    "# sub y in terms of x to solve for x\n",
    "# 4x + 4(3/2)x = 4x + 6x = 10x = 12\n",
    "x = 12/10\n",
    "# x = 1.2\n",
    "print(f\"x = {x}\")\n",
    "\n",
    "# use solved value of x to solve for y\n",
    "# 4(1.2) + 4y = 12\n",
    "# 12 - 4.8 = 7.2 = 4y\n",
    "y = (12 - 4*x)/4\n",
    "print(f\"y = {y}\")\n",
    "# y = 1.8\n",
    "\n",
    "# compute 5x + 5y from solved values above\n",
    "print(f\"5x + 5y = 5*{x} + 5*{y} = {5*x} + {5*y} = {5*x + 5*y}\")"
   ]
  },
  {
   "cell_type": "markdown",
   "metadata": {},
   "source": [
    "## Exercise 2\n",
    "\n",
    "Jim has more money than Bob. If Jim gave Bob 20 dollars, they would have the same amount. If Bob gave Jim 22 dollars, however, Jim would then have twice as much as Bob. \n",
    "\n",
    "How much does each one actually have?\n",
    "\n",
    "### Solution\n",
    "> Let x be the amount of money that Jim has and y be the amount that Bob has "
   ]
  },
  {
   "cell_type": "code",
   "execution_count": 2,
   "metadata": {},
   "outputs": [
    {
     "name": "stdout",
     "output_type": "stream",
     "text": [
      "y = 106\n",
      "x = 146\n"
     ]
    }
   ],
   "source": [
    "# Your solution here \n",
    "# Answer:\n",
    "# y = 106 (Bob's amount)\n",
    "# x = 146 (Jim's amount)\n",
    "\n",
    "# frame the problem\n",
    "# j = x = Jim\n",
    "# b = y = Bob\n",
    "# 1: j > b\n",
    "# 2: j - 20 = b + 20\n",
    "# 3: j + 22 = 2(b - 22) = 2b - 44\n",
    "\n",
    "# 4: from 2:\n",
    "# j = b + 40\n",
    "\n",
    "# 5: from 3 and 4\n",
    "# (b + 40) + 22 = b + 62 = 2b - 44\n",
    "# b + 106 = 2b <--> b = 106\n",
    "y = 106\n",
    "print(f\"y = {y}\")\n",
    "\n",
    "# 6: from 5 and 2\n",
    "# j = 106 + 40 = 146\n",
    "x = y + 40\n",
    "print(f\"x = {x}\")"
   ]
  },
  {
   "cell_type": "markdown",
   "metadata": {},
   "source": [
    "## Exercise 3\n",
    "\n",
    "Mia has 30 coins, consisting of quarters (25 cents) and dimes (10 cents), which totals to the amount 5.70 dollars.  \n",
    "How many of each does she have?\n",
    "\n",
    "### Solution\n",
    "\n",
    "> Let x be the number of quarters and y be the number of dimes "
   ]
  },
  {
   "cell_type": "code",
   "execution_count": 3,
   "metadata": {},
   "outputs": [
    {
     "name": "stdout",
     "output_type": "stream",
     "text": [
      "x = 18\n",
      "y = 12\n"
     ]
    }
   ],
   "source": [
    "# Your solution here \n",
    "# Answer:\n",
    "# x = 18 quarters\n",
    "# y = 12 dimes\n",
    "\n",
    "# x + y = 30\n",
    "# .25x + .10y = 5.7\n",
    "\n",
    "# y = 30 - x\n",
    "# .25x + .10(30 - x) = 5.7\n",
    "#   .25x + 3 - .10x = 5.7\n",
    "#   .15x + 3 = 5.7\n",
    "#   .15x = 2.7\n",
    "#   x = 2.7/.15 = 18\n",
    "x = round(2.7/.15) # snagged by floating point error\n",
    "print(f\"x = {x}\")\n",
    "#   y = 30 - x\n",
    "y = 30 - x\n",
    "print(f\"y = {y}\")"
   ]
  },
  {
   "cell_type": "markdown",
   "metadata": {},
   "source": [
    "## Level up (Optional)\n",
    "For more practice with linear equations, visit the following links for more complex equations:\n",
    "\n",
    "* https://www.transum.org/software/SW/Starter_of_the_day/Students/Simultaneous_Equations.asp?Level=6\n",
    "* https://www.transum.org/software/SW/Starter_of_the_day/Students/Simultaneous_Equations.asp?Level=7\n",
    "\n",
    "## Summary\n",
    "\n",
    "In this lesson, you learned how to solve linear equations by hand to find the coefficient values. You'll now move forward to have a deeper look into vectors and matrices and how Python and NumPy can help us solve more complex equations in an analytical context. "
   ]
  }
 ],
 "metadata": {
  "kernelspec": {
   "display_name": "Python 3",
   "language": "python",
   "name": "python3"
  },
  "language_info": {
   "codemirror_mode": {
    "name": "ipython",
    "version": 3
   },
   "file_extension": ".py",
   "mimetype": "text/x-python",
   "name": "python",
   "nbconvert_exporter": "python",
   "pygments_lexer": "ipython3",
   "version": "3.7.6"
  }
 },
 "nbformat": 4,
 "nbformat_minor": 4
}
